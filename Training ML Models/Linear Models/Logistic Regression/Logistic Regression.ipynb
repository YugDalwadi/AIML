{
 "cells": [
  {
   "cell_type": "code",
   "execution_count": 1,
   "metadata": {},
   "outputs": [
    {
     "data": {
      "text/html": [
       "<div>\n",
       "<style scoped>\n",
       "    .dataframe tbody tr th:only-of-type {\n",
       "        vertical-align: middle;\n",
       "    }\n",
       "\n",
       "    .dataframe tbody tr th {\n",
       "        vertical-align: top;\n",
       "    }\n",
       "\n",
       "    .dataframe thead th {\n",
       "        text-align: right;\n",
       "    }\n",
       "</style>\n",
       "<table border=\"1\" class=\"dataframe\">\n",
       "  <thead>\n",
       "    <tr style=\"text-align: right;\">\n",
       "      <th></th>\n",
       "      <th>sepal_length</th>\n",
       "      <th>sepal_width</th>\n",
       "      <th>petal_length</th>\n",
       "      <th>petal_width</th>\n",
       "      <th>species</th>\n",
       "    </tr>\n",
       "  </thead>\n",
       "  <tbody>\n",
       "    <tr>\n",
       "      <th>0</th>\n",
       "      <td>5.1</td>\n",
       "      <td>3.5</td>\n",
       "      <td>1.4</td>\n",
       "      <td>0.2</td>\n",
       "      <td>setosa</td>\n",
       "    </tr>\n",
       "    <tr>\n",
       "      <th>1</th>\n",
       "      <td>4.9</td>\n",
       "      <td>3.0</td>\n",
       "      <td>1.4</td>\n",
       "      <td>0.2</td>\n",
       "      <td>setosa</td>\n",
       "    </tr>\n",
       "    <tr>\n",
       "      <th>2</th>\n",
       "      <td>4.7</td>\n",
       "      <td>3.2</td>\n",
       "      <td>1.3</td>\n",
       "      <td>0.2</td>\n",
       "      <td>setosa</td>\n",
       "    </tr>\n",
       "    <tr>\n",
       "      <th>3</th>\n",
       "      <td>4.6</td>\n",
       "      <td>3.1</td>\n",
       "      <td>1.5</td>\n",
       "      <td>0.2</td>\n",
       "      <td>setosa</td>\n",
       "    </tr>\n",
       "    <tr>\n",
       "      <th>4</th>\n",
       "      <td>5.0</td>\n",
       "      <td>3.6</td>\n",
       "      <td>1.4</td>\n",
       "      <td>0.2</td>\n",
       "      <td>setosa</td>\n",
       "    </tr>\n",
       "  </tbody>\n",
       "</table>\n",
       "</div>"
      ],
      "text/plain": [
       "   sepal_length  sepal_width  petal_length  petal_width species\n",
       "0           5.1          3.5           1.4          0.2  setosa\n",
       "1           4.9          3.0           1.4          0.2  setosa\n",
       "2           4.7          3.2           1.3          0.2  setosa\n",
       "3           4.6          3.1           1.5          0.2  setosa\n",
       "4           5.0          3.6           1.4          0.2  setosa"
      ]
     },
     "execution_count": 1,
     "metadata": {},
     "output_type": "execute_result"
    }
   ],
   "source": [
    "import numpy as np\n",
    "import pandas as pd\n",
    "import matplotlib.pyplot as plt\n",
    "import scipy\n",
    "%matplotlib inline\n",
    "irisDf = pd.read_csv(r\"C:\\Users\\yug\\Desktop\\Projects\\AIML\\Training Regression Models\\Linear Models\\Logistic Regression\\iris.csv\")\n",
    "\n",
    "X = irisDf[\"sepal_length\"]\n",
    "y = (irisDf[\"species\"] == \"setosa\").astype(int)\n",
    "X = np.array([X]).reshape(-1,1)\n",
    "irisDf.head()"
   ]
  },
  {
   "cell_type": "markdown",
   "metadata": {},
   "source": [
    "A Logistic Regressor is a binary classifier that finds the probability of an sample belonging to one class or the other. It uses a logistic map ( A common one is 1/1+ e^-t) and is a sigmoid function."
   ]
  },
  {
   "cell_type": "code",
   "execution_count": 2,
   "metadata": {},
   "outputs": [
    {
     "data": {
      "image/png": "[encoded data removed]",
      "text/plain": [
       "<Figure size 432x288 with 1 Axes>"
      ]
     },
     "metadata": {
      "needs_background": "light"
     },
     "output_type": "display_data"
    }
   ],
   "source": [
    "from sklearn.linear_model import LogisticRegression\n",
    "\n",
    "logReg = LogisticRegression()\n",
    "logReg.fit(X, y)\n",
    "\n",
    "xTest = np.linspace(start=0,stop=10,num=1000).reshape(-1,1)\n",
    "yProba = logReg.predict_proba(xTest) # Returns in order of labels.\n",
    "# yProba[0] is the probability of the flower not being a Setosa and so on.\n",
    "\n",
    "plt.plot(xTest, yProba[:, 1],\"b--\" ,label=\"Setosa\")\n",
    "plt.plot(xTest, yProba[:,0], \"r--\",label= \"Not Setosa\")\n",
    "plt.xlabel(\"Sepal Length\")\n",
    "plt.ylabel(\"Predicted Probability\")\n",
    "plt.legend(loc=\"center left\")\n",
    "plt.show()"
   ]
  },
  {
   "cell_type": "markdown",
   "metadata": {},
   "source": [
    "Using softmax regression, we can classify multiclass datasets without having to train many binary classifiers against each other.\n",
    "Softmax regression computes a score k for each class k and then estimates the probability of of each class by applying the softmax function.\n",
    "Note that the regressor is multiclass, not multioutput. So, we only get a single predicted class for each data point."
   ]
  },
  {
   "cell_type": "code",
   "execution_count": 3,
   "metadata": {},
   "outputs": [],
   "source": [
    "X = irisDf.iloc[:, 0:4]\n",
    "y = irisDf.iloc[:, 4]\n",
    "#X = np.array(X).reshape(-1,1)\n",
    "\n",
    "xTrain = np.linspace(start=[0,0,0,0], stop=[10,7,5,4], num=1000)"
   ]
  },
  {
   "cell_type": "code",
   "execution_count": 4,
   "metadata": {},
   "outputs": [
    {
     "name": "stdout",
     "output_type": "stream",
     "text": [
      "[[9.99529840e-01 4.70160104e-04 2.83919000e-10]\n",
      " [9.99523792e-01 4.76207409e-04 2.92735669e-10]\n",
      " [9.99517667e-01 4.82332459e-04 3.01826102e-10]\n",
      " ...\n",
      " [1.94392249e-04 3.14392364e-02 9.68366371e-01]\n",
      " [1.88642108e-04 3.09018649e-02 9.68909493e-01]\n",
      " [1.83060289e-04 3.03733849e-02 9.69443555e-01]]\n"
     ]
    }
   ],
   "source": [
    "softmaxLogReg = LogisticRegression(multi_class=\"multinomial\")\n",
    "softmaxLogReg.fit(X,y)\n",
    "yPreds = softmaxLogReg.predict(xTrain)\n",
    "\n",
    "yPreds = pd.DataFrame(yPreds)\n",
    "predProba = softmaxLogReg.predict_proba(xTrain)"
   ]
  }
 ],
 "metadata": {
  "kernelspec": {
   "display_name": "Python 3.9.7 ('base')",
   "language": "python",
   "name": "python3"
  },
  "language_info": {
   "codemirror_mode": {
    "name": "ipython",
    "version": 3
   },
   "file_extension": ".py",
   "mimetype": "text/x-python",
   "name": "python",
   "nbconvert_exporter": "python",
   "pygments_lexer": "ipython3",
   "version": "3.9.7"
  },
  "orig_nbformat": 4,
  "vscode": {
   "interpreter": {
    "hash": "ad2bdc8ecc057115af97d19610ffacc2b4e99fae6737bb82f5d7fb13d2f2c186"
   }
  }
 },
 "nbformat": 4,
 "nbformat_minor": 2
}
