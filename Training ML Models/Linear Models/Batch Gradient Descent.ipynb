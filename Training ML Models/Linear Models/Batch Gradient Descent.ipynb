{
 "cells": [
  {
   "cell_type": "code",
   "execution_count": 1,
   "metadata": {},
   "outputs": [],
   "source": [
    "import numpy as np\n",
    "import pandas as pd\n",
    "import matplotlib.pyplot as plt\n",
    "import scipy\n",
    "%matplotlib inline"
   ]
  },
  {
   "cell_type": "code",
   "execution_count": 2,
   "metadata": {},
   "outputs": [],
   "source": [
    "X = 2 * np.random.rand(100,1)\n",
    "y = 4 + 3 * X + np.random.randn(100,1)\n",
    "\n",
    "X_b = np.c_[np.ones((100,1)), X]\n",
    "\n",
    "theta = np.array([[0], [2]])"
   ]
  },
  {
   "cell_type": "code",
   "execution_count": 3,
   "metadata": {},
   "outputs": [
    {
     "name": "stdout",
     "output_type": "stream",
     "text": [
      "[[4.26325551]\n",
      " [2.89776846]]\n"
     ]
    },
    {
     "data": {
      "text/plain": [
       "[<matplotlib.lines.Line2D at 0x19ed4306fa0>]"
      ]
     },
     "execution_count": 3,
     "metadata": {},
     "output_type": "execute_result"
    },
    {
     "data": {
      "image/png": "[encoded data removed]",
      "text/plain": [
       "<Figure size 432x288 with 1 Axes>"
      ]
     },
     "metadata": {
      "needs_background": "light"
     },
     "output_type": "display_data"
    }
   ],
   "source": [
    "n_iterations = 1000\n",
    "eta = 0.2\n",
    "m = 100\n",
    "\n",
    "for i in range(n_iterations): # this means 1000 steps in total\n",
    "    gradients = (2/m) * X_b.T.dot(X_b.dot(theta) - y) # The formula\n",
    "    theta = theta - eta*gradients # To get the gradient descent step\n",
    "\n",
    "print(theta)\n",
    "\n",
    "xTest = np.array([[0], [2]])\n",
    "xTest_b = np.c_[np.ones((2,1)), xTest]\n",
    "\n",
    "yPreds = xTest_b.dot(theta)\n",
    "\n",
    "plt.plot(xTest, yPreds, \"r-\")\n",
    "plt.plot(X,y, \"b.\")"
   ]
  },
  {
   "cell_type": "markdown",
   "metadata": {},
   "source": [
    "The issue with batch gradient descent is that it calculates the gradient step on the whole dataset at each step. This makes it very slow for larger datasets. This issue is mitigated by Stochastic Gradient Descent.\n",
    "We can figure out the number of n_iterations to use by using tolerance(denoted by epsilon). When the norm of the vector approached tolerance, you stop the regression."
   ]
  }
 ],
 "metadata": {
  "kernelspec": {
   "display_name": "Python 3.9.7 ('base')",
   "language": "python",
   "name": "python3"
  },
  "language_info": {
   "codemirror_mode": {
    "name": "ipython",
    "version": 3
   },
   "file_extension": ".py",
   "mimetype": "text/x-python",
   "name": "python",
   "nbconvert_exporter": "python",
   "pygments_lexer": "ipython3",
   "version": "3.9.7"
  },
  "orig_nbformat": 4,
  "vscode": {
   "interpreter": {
    "hash": "ad2bdc8ecc057115af97d19610ffacc2b4e99fae6737bb82f5d7fb13d2f2c186"
   }
  }
 },
 "nbformat": 4,
 "nbformat_minor": 2
}
