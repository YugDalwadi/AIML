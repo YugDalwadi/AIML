{
 "cells": [
  {
   "cell_type": "code",
   "execution_count": 1,
   "metadata": {},
   "outputs": [],
   "source": [
    "import numpy as np\n",
    "import pandas as pd\n",
    "import matplotlib.pyplot as plt\n",
    "import scipy\n",
    "%matplotlib inline"
   ]
  },
  {
   "cell_type": "markdown",
   "metadata": {},
   "source": [
    "Stochastic means random. So, in comparison to Batch gradient descent, stochastic gradient descent actually selects a random data point from the given dataset and performs step calculations on it. This makes the learning be random at once, but average out to descend the gradient over time. \n",
    "\n",
    "Even after the algorithm reaches the minima of the gradient, it will keep bouncing around and calculating as it's nature is random. This leads to good parameter values, but not optimal ones.\n",
    "One solution to this issue is to gradually reduce the learning rate the close we get to the minima. The steps start out large which help escape the local minima, but then slow down which lead to a global minima. This is called simulated annealing.\n",
    "The function that determines the rate of learning at each step is known as the learning schedule.\n",
    "\n",
    "However, due to this reason the SGD has a better chance of finding the global minima and not just the local minima."
   ]
  },
  {
   "cell_type": "code",
   "execution_count": 2,
   "metadata": {},
   "outputs": [
    {
     "data": {
      "image/png": "[encoded data removed]",
      "text/plain": [
       "<Figure size 432x288 with 1 Axes>"
      ]
     },
     "metadata": {
      "needs_background": "light"
     },
     "output_type": "display_data"
    }
   ],
   "source": [
    "X = 2 * np.random.rand(100,1)\n",
    "y = 4 + 3 * X + np.random.randn(100,1)\n",
    "plt.plot(X,y, \"b.\")\n",
    "plt.show\n",
    "X_b = np.c_[np.ones((100,1)), X]"
   ]
  },
  {
   "cell_type": "code",
   "execution_count": 3,
   "metadata": {},
   "outputs": [
    {
     "data": {
      "text/plain": [
       "[<matplotlib.lines.Line2D at 0x2a61b72df40>]"
      ]
     },
     "execution_count": 3,
     "metadata": {},
     "output_type": "execute_result"
    },
    {
     "data": {
      "image/png": "[encoded data removed]",
      "text/plain": [
       "<Figure size 432x288 with 1 Axes>"
      ]
     },
     "metadata": {
      "needs_background": "light"
     },
     "output_type": "display_data"
    }
   ],
   "source": [
    "n_epochs = 50 # n_iters\n",
    "t0, t1 = 5, 50  # learning schedule hyperparameters\n",
    "m = len(X_b)\n",
    "theta = np.random.randn(2,1)  # random initialization\n",
    "\n",
    "def learning_schedule(t):\n",
    "    return t0 / (t + t1)\n",
    "\n",
    "for epoch in range(n_epochs):\n",
    "    for i in range(m):\n",
    "        random_index = np.random.randint(m)\n",
    "        # slicing it like [a:a+1] is the same as grabbing the X_b[random_index] and converting it to a numpy array\n",
    "        xi = X_b[random_index: random_index+1]\n",
    "        yi = y[random_index: random_index+1]\n",
    "\n",
    "        gradients = 2 * xi.T.dot(xi.dot(theta) - yi) # 2, not 2/m like BGD as m is always equal to 1\n",
    "        eta = learning_schedule(epoch * m + i)\n",
    "        theta = theta - eta*gradients\n",
    "\n",
    "xTest = np.array([[0], [2]])\n",
    "xTest_b = np.c_[np.ones((2,1)), xTest]\n",
    "yPreds = xTest_b.dot(theta)\n",
    "plt.plot(X,y, \"b.\")\n",
    "plt.plot(xTest,yPreds, \"r-\")\n",
    "        "
   ]
  },
  {
   "cell_type": "markdown",
   "metadata": {},
   "source": [
    "xi = X_b[random_index] \n",
    "xi = np.array([xi]) <br>\n",
    "yi = y[random_index]\n",
    "yi = np.array([yi])\n",
    "\n",
    "IS THE SAME AS\n",
    "\n",
    "xi = X_b[random_index:random_index+1] <br>\n",
    "yi = y[random_index:random_index+1]"
   ]
  }
 ],
 "metadata": {
  "kernelspec": {
   "display_name": "Python 3.9.7 ('base')",
   "language": "python",
   "name": "python3"
  },
  "language_info": {
   "codemirror_mode": {
    "name": "ipython",
    "version": 3
   },
   "file_extension": ".py",
   "mimetype": "text/x-python",
   "name": "python",
   "nbconvert_exporter": "python",
   "pygments_lexer": "ipython3",
   "version": "3.9.7"
  },
  "orig_nbformat": 4,
  "vscode": {
   "interpreter": {
    "hash": "ad2bdc8ecc057115af97d19610ffacc2b4e99fae6737bb82f5d7fb13d2f2c186"
   }
  }
 },
 "nbformat": 4,
 "nbformat_minor": 2
}
