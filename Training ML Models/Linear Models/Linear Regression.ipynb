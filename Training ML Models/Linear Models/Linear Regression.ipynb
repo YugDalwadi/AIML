{
 "cells": [
  {
   "cell_type": "code",
   "execution_count": 1,
   "metadata": {},
   "outputs": [],
   "source": [
    "import numpy as np\n",
    "import pandas as pd\n",
    "import matplotlib.pyplot as plt\n",
    "import scipy\n",
    "%matplotlib inline\n"
   ]
  },
  {
   "cell_type": "code",
   "execution_count": 2,
   "metadata": {},
   "outputs": [],
   "source": [
    "# Cost function measures distance b/w the actual value and predicted value.\n",
    "# A linear model computes the prediction value by computing the weighted sum of all the input features multiplied by the feature value and\n",
    "# a constant called the bias term (Denoted by theta0)\n",
    "\n",
    "# h0 is the hypothesis function that best describes the target. It is based on the data and biases of the data\n",
    "# Basically, for a linear regression model, we are aiming to find a feature vector theta such that the RMSE of y vector and label vector\n",
    "# will be lowest."
   ]
  },
  {
   "cell_type": "markdown",
   "metadata": {},
   "source": [
    "The Normal Equation\n",
    "This is a closed form equation. In other words, this equation gives us the result directly."
   ]
  },
  {
   "cell_type": "code",
   "execution_count": 3,
   "metadata": {},
   "outputs": [
    {
     "name": "stdout",
     "output_type": "stream",
     "text": [
      "[[3.81054359]\n",
      " [3.08723059]]\n"
     ]
    },
    {
     "data": {
      "image/png": "[encoded data removed]",
      "text/plain": [
       "<Figure size 432x288 with 1 Axes>"
      ]
     },
     "metadata": {
      "needs_background": "light"
     },
     "output_type": "display_data"
    }
   ],
   "source": [
    "X = 2 * np.random.rand(100,1)\n",
    "y = 4 + 3 * X + np.random.randn(100,1)\n",
    "plt.scatter(X,y)\n",
    "\n",
    "# Now we create the normal equation for these two sets.\n",
    "\n",
    "Xb = np.c_[np.ones((100,1)), X] # Concat the x0 to all instances (Always equal to one)\n",
    "thetaVectBest = np.linalg.inv(Xb.T.dot(Xb)).dot(Xb.T).dot(y) # This is a formula\n",
    "print(thetaVectBest)"
   ]
  },
  {
   "cell_type": "code",
   "execution_count": 4,
   "metadata": {},
   "outputs": [
    {
     "name": "stdout",
     "output_type": "stream",
     "text": [
      "(2, 1) (2, 2)\n"
     ]
    },
    {
     "data": {
      "text/plain": [
       "[<matplotlib.lines.Line2D at 0x1e6ca6aa580>]"
      ]
     },
     "execution_count": 4,
     "metadata": {},
     "output_type": "execute_result"
    },
    {
     "data": {
      "image/png": "[encoded data removed]",
      "text/plain": [
       "<Figure size 432x288 with 1 Axes>"
      ]
     },
     "metadata": {
      "needs_background": "light"
     },
     "output_type": "display_data"
    }
   ],
   "source": [
    "XNew = np.array([[0],[2]])\n",
    "XNew_b = np.c_[np.ones((2,1)), XNew]\n",
    "\n",
    "yPreds = XNew_b.dot(thetaVectBest)\n",
    "print(thetaVectBest.shape, XNew_b.shape)\n",
    "plt.plot(XNew, yPreds, \"r-\") # Don't put XNew_b here as it contains the x0 rows :joy:\n",
    "plt.plot(X, y, \"b.\")"
   ]
  },
  {
   "cell_type": "markdown",
   "metadata": {},
   "source": [
    "This is the same as doing this for sklearn:"
   ]
  },
  {
   "cell_type": "code",
   "execution_count": 5,
   "metadata": {},
   "outputs": [
    {
     "name": "stdout",
     "output_type": "stream",
     "text": [
      "[[3.08723059]]\n",
      "[3.81054359]\n"
     ]
    },
    {
     "data": {
      "text/plain": [
       "array([[3.81054359],\n",
       "       [9.98500476]])"
      ]
     },
     "execution_count": 5,
     "metadata": {},
     "output_type": "execute_result"
    }
   ],
   "source": [
    "from sklearn.linear_model import LinearRegression\n",
    "\n",
    "linReg = LinearRegression()\n",
    "linReg.fit(X, y)\n",
    "print(linReg.coef_) # This is the bias term which is constant\n",
    "print(linReg.intercept_) # This is the feature weights  \n",
    "linReg.predict(XNew)"
   ]
  }
 ],
 "metadata": {
  "kernelspec": {
   "display_name": "Python 3.9.7 ('base')",
   "language": "python",
   "name": "python3"
  },
  "language_info": {
   "codemirror_mode": {
    "name": "ipython",
    "version": 3
   },
   "file_extension": ".py",
   "mimetype": "text/x-python",
   "name": "python",
   "nbconvert_exporter": "python",
   "pygments_lexer": "ipython3",
   "version": "3.9.7"
  },
  "orig_nbformat": 4,
  "vscode": {
   "interpreter": {
    "hash": "ad2bdc8ecc057115af97d19610ffacc2b4e99fae6737bb82f5d7fb13d2f2c186"
   }
  }
 },
 "nbformat": 4,
 "nbformat_minor": 2
}
