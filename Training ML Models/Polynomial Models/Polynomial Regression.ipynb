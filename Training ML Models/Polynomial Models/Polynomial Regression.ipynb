{
 "cells": [
  {
   "cell_type": "code",
   "execution_count": 46,
   "metadata": {},
   "outputs": [],
   "source": [
    "import numpy as np\n",
    "import pandas as pd\n",
    "import matplotlib.pyplot as plt\n",
    "import scipy\n",
    "%matplotlib inline"
   ]
  },
  {
   "cell_type": "code",
   "execution_count": 47,
   "metadata": {},
   "outputs": [
    {
     "data": {
      "text/plain": [
       "((100, 1), (100, 1))"
      ]
     },
     "execution_count": 47,
     "metadata": {},
     "output_type": "execute_result"
    },
    {
     "data": {
      "image/png": "[encoded data removed]",
      "text/plain": [
       "<Figure size 432x288 with 1 Axes>"
      ]
     },
     "metadata": {
      "needs_background": "light"
     },
     "output_type": "display_data"
    }
   ],
   "source": [
    "m = 100\n",
    "X = 6 * np.random.rand(m, 1) - 3\n",
    "y = 1/2 * X**2 + X + 2 + np.random.randn(m,1)\n",
    "plt.scatter(X, y)\n",
    "X.shape, y.shape"
   ]
  },
  {
   "cell_type": "code",
   "execution_count": 48,
   "metadata": {},
   "outputs": [
    {
     "data": {
      "text/plain": [
       "(array([1.88600831]), array([[0.99998037, 0.47855863]]))"
      ]
     },
     "execution_count": 48,
     "metadata": {},
     "output_type": "execute_result"
    }
   ],
   "source": [
    "from sklearn.preprocessing import PolynomialFeatures\n",
    "polyFeatures = PolynomialFeatures(degree=2, include_bias=False)\n",
    "X_poly = polyFeatures.fit_transform(X)\n",
    "\n",
    "from sklearn.linear_model import LinearRegression\n",
    "\n",
    "linReg = LinearRegression()\n",
    "linReg.fit(X_poly,y)\n",
    "linReg.intercept_, linReg.coef_\n"
   ]
  },
  {
   "cell_type": "markdown",
   "metadata": {},
   "source": [
    "Learning Curves :-\n",
    "\n",
    "Plots of the model's performance on the training and validation set as a function of the training set size.\n",
    "To create one, just train the model several times on different sized subsets of the training set."
   ]
  },
  {
   "cell_type": "code",
   "execution_count": 49,
   "metadata": {},
   "outputs": [],
   "source": [
    "from sklearn.metrics import mean_squared_error\n",
    "from sklearn.model_selection import train_test_split\n",
    "\n",
    "def plotLearningCurves(Model, X, y):\n",
    "    XTrain, xVali, yTrain, yVali = train_test_split(X,y, test_size=0.2)\n",
    "    trainErrors= []\n",
    "    valiErrors= []\n",
    "\n",
    "    for m in range(1, len(XTrain)):\n",
    "        Model.fit(XTrain[:m], yTrain[:m])\n",
    "        yTrainPreds = Model.predict(XTrain[:m])\n",
    "        yValiPreds = Model.predict(xVali[:m])\n",
    "        trainErrors.append(mean_squared_error(yTrain[:m], yTrainPreds[:m]))\n",
    "        valiErrors.append(mean_squared_error(yVali[:m], yValiPreds[:m]))\n",
    "\n",
    "    plt.plot(np.sqrt(trainErrors), \"r-\", label=\"Train Errors\")\n",
    "    plt.plot(np.sqrt(valiErrors), \"b-\", label=\"Validation Errors\")\n",
    "    plt.legend()\n",
    "    plt.show"
   ]
  },
  {
   "cell_type": "code",
   "execution_count": 50,
   "metadata": {},
   "outputs": [
    {
     "name": "stdout",
     "output_type": "stream",
     "text": [
      "[-1.61062711 -1.50986469 -1.76223122 -1.50683566 -1.5512062 ]\n"
     ]
    }
   ],
   "source": [
    "from sklearn.model_selection import cross_validate\n",
    "\n",
    "myVal = cross_validate(linReg, X=X, y=y, scoring=\"neg_root_mean_squared_error\", cv=5)\n",
    "testScore = myVal[\"test_score\"]\n",
    "print(testScore)"
   ]
  },
  {
   "cell_type": "code",
   "execution_count": 51,
   "metadata": {},
   "outputs": [
    {
     "data": {
      "image/png": "[encoded data removed]",
      "text/plain": [
       "<Figure size 432x288 with 1 Axes>"
      ]
     },
     "metadata": {
      "needs_background": "light"
     },
     "output_type": "display_data"
    }
   ],
   "source": [
    "from sklearn.pipeline import Pipeline\n",
    "degree = 10\n",
    "myPipeline = Pipeline([\n",
    "    (\"polyFeatures\", PolynomialFeatures(degree=degree, include_bias=False)),\n",
    "    (\"linReg\", LinearRegression())\n",
    "])\n",
    "\n",
    "model = myPipeline.fit(X,y)\n",
    "plotLearningCurves(model, X, y)"
   ]
  },
  {
   "cell_type": "markdown",
   "metadata": {},
   "source": [
    "Regularizing a model means to reduce it's overfitting issues and constrain the model(Such as removing degrees of polynomial when converting features)\n",
    "\n",
    "For linear models, regularization is typically done by constraining the n_weights of the models."
   ]
  }
 ],
 "metadata": {
  "kernelspec": {
   "display_name": "Python 3.9.7 ('base')",
   "language": "python",
   "name": "python3"
  },
  "language_info": {
   "codemirror_mode": {
    "name": "ipython",
    "version": 3
   },
   "file_extension": ".py",
   "mimetype": "text/x-python",
   "name": "python",
   "nbconvert_exporter": "python",
   "pygments_lexer": "ipython3",
   "version": "3.9.7"
  },
  "orig_nbformat": 4,
  "vscode": {
   "interpreter": {
    "hash": "ad2bdc8ecc057115af97d19610ffacc2b4e99fae6737bb82f5d7fb13d2f2c186"
   }
  }
 },
 "nbformat": 4,
 "nbformat_minor": 2
}
