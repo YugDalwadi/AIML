{
 "cells": [
  {
   "cell_type": "code",
   "execution_count": 1,
   "metadata": {},
   "outputs": [],
   "source": [
    "import numpy as np\n",
    "import pandas as pd\n",
    "import matplotlib.pyplot as plt\n",
    "import scipy\n",
    "import graphviz\n",
    "%matplotlib inline"
   ]
  },
  {
   "cell_type": "code",
   "execution_count": 2,
   "metadata": {},
   "outputs": [],
   "source": [
    "# Data Preparation\n",
    "from sklearn.datasets import make_moons\n",
    "moonsDf = make_moons(n_samples= 1000, shuffle=True, noise=0.4)\n",
    "from sklearn.model_selection import train_test_split\n",
    "X,y = moonsDf[0], moonsDf[1]\n",
    "\n",
    "xTrain, xTest= train_test_split(X, test_size=0.2, train_size=0.8, random_state=42)\n",
    "yTrain, yTest= train_test_split(y, test_size=0.2, train_size=0.8, random_state=42)"
   ]
  },
  {
   "cell_type": "code",
   "execution_count": 3,
   "metadata": {},
   "outputs": [
    {
     "data": {
      "text/plain": [
       "{'max_depth': 10, 'max_leaf_nodes': 4}"
      ]
     },
     "execution_count": 3,
     "metadata": {},
     "output_type": "execute_result"
    }
   ],
   "source": [
    "from sklearn.tree import DecisionTreeClassifier\n",
    "from sklearn.metrics import mean_squared_error\n",
    "from sklearn.model_selection import GridSearchCV\n",
    "\n",
    "treeClf = DecisionTreeClassifier(criterion=\"gini\")\n",
    "paramGrid = {\"max_leaf_nodes\": [2,4,6,8,10], \"max_depth\": [10,20,30,40]}\n",
    "myGrid = GridSearchCV(param_grid=paramGrid, estimator=treeClf)\n",
    "myGrid.fit(xTrain,yTrain)\n",
    "myGrid.best_params_"
   ]
  },
  {
   "cell_type": "code",
   "execution_count": 4,
   "metadata": {},
   "outputs": [
    {
     "name": "stdout",
     "output_type": "stream",
     "text": [
      "0.4183300132670378\n"
     ]
    }
   ],
   "source": [
    "treeClf2 = DecisionTreeClassifier(max_depth=10, max_leaf_nodes=4)\n",
    "treeClf2.fit(xTrain,yTrain)\n",
    "yPred = treeClf2.predict(xTest)\n",
    "print(np.sqrt(mean_squared_error(yTest, yPred)))"
   ]
  }
 ],
 "metadata": {
  "kernelspec": {
   "display_name": "Python 3.9.7 ('base')",
   "language": "python",
   "name": "python3"
  },
  "language_info": {
   "codemirror_mode": {
    "name": "ipython",
    "version": 3
   },
   "file_extension": ".py",
   "mimetype": "text/x-python",
   "name": "python",
   "nbconvert_exporter": "python",
   "pygments_lexer": "ipython3",
   "version": "3.9.7"
  },
  "orig_nbformat": 4,
  "vscode": {
   "interpreter": {
    "hash": "ad2bdc8ecc057115af97d19610ffacc2b4e99fae6737bb82f5d7fb13d2f2c186"
   }
  }
 },
 "nbformat": 4,
 "nbformat_minor": 2
}
