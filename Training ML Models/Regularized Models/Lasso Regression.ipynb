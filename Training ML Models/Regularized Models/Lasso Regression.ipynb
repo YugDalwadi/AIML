{
 "cells": [
  {
   "cell_type": "code",
   "execution_count": 16,
   "metadata": {},
   "outputs": [],
   "source": [
    "import numpy as np\n",
    "import pandas as pd\n",
    "import matplotlib.pyplot as plt\n",
    "import scipy\n",
    "%matplotlib inline\n",
    "\n",
    "#l1 norm = MAE\n",
    "#l2 norm = RMSE"
   ]
  },
  {
   "cell_type": "markdown",
   "metadata": {},
   "source": [
    "Least Absolute Shrinkage and Selection Operator --> L.A.S.S.O\n",
    "\n",
    "This is another regularized linear regression model which adds a regularization term to the cost function. This regularization term is the l1 norm(MAE); Unlike Ridge Regression where the regularization term was half of the square of l2 norm.(RMSE)\n",
    "A characteristic of Lasso regression is that it completely eliminates the low valued weights of features and makes them 0.\n",
    "i.e, lasso automatically chooses the features and outputs a sparse model.(Few non-zero feature weights)"
   ]
  },
  {
   "cell_type": "code",
   "execution_count": 17,
   "metadata": {},
   "outputs": [],
   "source": [
    "X = 3 * np.random.rand(100, 1)\n",
    "y = 1 + 0.5 * X + np.random.randn(100, 1) / 1.5"
   ]
  },
  {
   "cell_type": "code",
   "execution_count": 18,
   "metadata": {},
   "outputs": [
    {
     "data": {
      "text/plain": [
       "array([1.74745073])"
      ]
     },
     "execution_count": 18,
     "metadata": {},
     "output_type": "execute_result"
    }
   ],
   "source": [
    "from sklearn.linear_model import Lasso\n",
    "lassoReg = Lasso(alpha=0.1)\n",
    "\n",
    "lassoReg.fit(X,y)\n",
    "lassoReg.predict([[1.5]])"
   ]
  }
 ],
 "metadata": {
  "kernelspec": {
   "display_name": "Python 3.9.7 ('base')",
   "language": "python",
   "name": "python3"
  },
  "language_info": {
   "codemirror_mode": {
    "name": "ipython",
    "version": 3
   },
   "file_extension": ".py",
   "mimetype": "text/x-python",
   "name": "python",
   "nbconvert_exporter": "python",
   "pygments_lexer": "ipython3",
   "version": "3.9.7"
  },
  "orig_nbformat": 4,
  "vscode": {
   "interpreter": {
    "hash": "ad2bdc8ecc057115af97d19610ffacc2b4e99fae6737bb82f5d7fb13d2f2c186"
   }
  }
 },
 "nbformat": 4,
 "nbformat_minor": 2
}
