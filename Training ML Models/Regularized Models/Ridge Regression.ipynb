{
 "cells": [
  {
   "cell_type": "code",
   "execution_count": 34,
   "metadata": {},
   "outputs": [],
   "source": [
    "import numpy as np\n",
    "import pandas as pd\n",
    "import matplotlib.pyplot as plt\n",
    "import scipy\n",
    "%matplotlib inline\n",
    "\n",
    "#l1 norm = MAE\n",
    "#l2 norm = RMSE"
   ]
  },
  {
   "cell_type": "markdown",
   "metadata": {},
   "source": [
    "In Ridge Regression, the regularization term is added to the cost function.\n",
    "It takes alpha * square of the l1 norm (MAE)\n",
    "\n",
    "Regularization means to penalize the model for fitting too much to the data. So, regularized linear models help us to restrain overfitting.\n",
    "The alpha in the regularization term is a hyperparameter that controls how much the weights are regularizard/constrained.\n",
    "The  higher the value of alpha, the less the variance."
   ]
  },
  {
   "cell_type": "code",
   "execution_count": 35,
   "metadata": {},
   "outputs": [
    {
     "name": "stdout",
     "output_type": "stream",
     "text": [
      "0.3908682082185029 0.2902431030464201\n"
     ]
    },
    {
     "name": "stderr",
     "output_type": "stream",
     "text": [
      "c:\\ProgramData\\Anaconda3\\lib\\site-packages\\sklearn\\utils\\validation.py:63: DataConversionWarning: A column-vector y was passed when a 1d array was expected. Please change the shape of y to (n_samples, ), for example using ravel().\n",
      "  return f(*args, **kwargs)\n"
     ]
    }
   ],
   "source": [
    "X = 3 * np.random.rand(100, 1)\n",
    "y = 1 + 0.5 * X + np.random.randn(100, 1) / 1.5\n",
    "\n",
    "from sklearn.linear_model import Ridge\n",
    "from sklearn.linear_model import SGDRegressor\n",
    "from sklearn.metrics import mean_squared_error\n",
    "\n",
    "ridgeReg = Ridge(alpha=1, solver=\"cholesky\")\n",
    "ridgeReg.fit(X,y)\n",
    "ridgeReg.predict(y)\n",
    "yPreds1 = ridgeReg.predict(y)\n",
    "RMSE1 = np.sqrt(mean_squared_error(y,yPreds1))\n",
    "\n",
    "SGDReg = SGDRegressor(penalty=\"l2\")\n",
    "SGDReg.fit(X,y)\n",
    "yPreds2 = SGDReg.predict(y)\n",
    "\n",
    "RMSE2 = np.sqrt(mean_squared_error(y,yPreds2))\n",
    "print(RMSE1, RMSE2)"
   ]
  },
  {
   "cell_type": "code",
   "execution_count": null,
   "metadata": {},
   "outputs": [],
   "source": []
  }
 ],
 "metadata": {
  "kernelspec": {
   "display_name": "Python 3.9.7 ('base')",
   "language": "python",
   "name": "python3"
  },
  "language_info": {
   "codemirror_mode": {
    "name": "ipython",
    "version": 3
   },
   "file_extension": ".py",
   "mimetype": "text/x-python",
   "name": "python",
   "nbconvert_exporter": "python",
   "pygments_lexer": "ipython3",
   "version": "3.9.7"
  },
  "orig_nbformat": 4,
  "vscode": {
   "interpreter": {
    "hash": "ad2bdc8ecc057115af97d19610ffacc2b4e99fae6737bb82f5d7fb13d2f2c186"
   }
  }
 },
 "nbformat": 4,
 "nbformat_minor": 2
}
