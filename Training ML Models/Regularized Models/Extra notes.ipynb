{
 "cells": [
  {
   "cell_type": "markdown",
   "metadata": {},
   "source": [
    "Use cases for all three models:-\n",
    "\n",
    "\n",
    "1) Ridge Regression- This is a good default for linear models.\n",
    "\n",
    "2) Lasso Regression- This should be used when you suspect or know that some features are actually not that useful at all for training your models. However, lasso tends to act erraticaly when the no. of features is more than the no. of training instances or when a lot of features are strongly correlated with each other.\n",
    "\n",
    "3) Elastic Net- This should be preferred over Lasso Regression as you can control how much it leans towards Ridge or Lasso. "
   ]
  }
 ],
 "metadata": {
  "kernelspec": {
   "display_name": "Python 3.9.7 ('base')",
   "language": "python",
   "name": "python3"
  },
  "language_info": {
   "name": "python",
   "version": "3.9.7"
  },
  "orig_nbformat": 4,
  "vscode": {
   "interpreter": {
    "hash": "ad2bdc8ecc057115af97d19610ffacc2b4e99fae6737bb82f5d7fb13d2f2c186"
   }
  }
 },
 "nbformat": 4,
 "nbformat_minor": 2
}
