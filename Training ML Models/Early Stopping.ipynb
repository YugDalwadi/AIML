{
 "cells": [
  {
   "cell_type": "markdown",
   "metadata": {},
   "source": [
    "A different way to regularize iterative linear models is by calculating the validation error at each epoch. When the validation error starts going up, it is a sign that the model has started to overfit the data. So, when this happens the model is trained to stop."
   ]
  },
  {
   "cell_type": "code",
   "execution_count": 36,
   "metadata": {},
   "outputs": [],
   "source": [
    "import numpy as np\n",
    "import pandas as pd\n",
    "import matplotlib.pyplot as plt\n",
    "import scipy\n",
    "%matplotlib inline\n",
    "\n",
    "from sklearn.linear_model import SGDRegressor\n",
    "from sklearn.base import clone\n",
    "from sklearn.preprocessing import PolynomialFeatures\n",
    "from sklearn.metrics import mean_squared_error\n",
    "from sklearn.model_selection import train_test_split\n",
    "\n",
    "np.random.seed(42)\n",
    "m = 100\n",
    "X = 6 * np.random.rand(m, 1) - 3\n",
    "y = 2 + X + 0.5 * X**2 + np.random.randn(m, 1)"
   ]
  },
  {
   "cell_type": "code",
   "execution_count": null,
   "metadata": {},
   "outputs": [],
   "source": [
    "# Basic implementation of early stopping.\n",
    "SGDReg = SGDRegressor(max_iter=1, learning_rate=\"constant\", warm_start=True, penalty=None, eta0=0.0005)\n",
    "\n",
    "xTrain, xVal, yTrain, yVal = train_test_split(X[:50], y[:50].ravel(), test_size=0.5, random_state=10)\n",
    "\n",
    "PolyTrain = PolynomialFeatures(degree=2, include_bias=False)\n",
    "xTrainPoly = PolyTrain.fit_transform(xTrain)\n",
    "xValPoly = PolyTrain.fit_transform(xVal)\n",
    "yValPreds, yTrainPreds = [], []\n",
    "\n",
    "minValidationError = np.infty\n",
    "bestEpoch, bestModel = None, None\n",
    "nEpochs = 100\n",
    "\n",
    "for epoch in range(nEpochs):\n",
    "\n",
    "    SGDReg.fit(xValPoly, yVal)\n",
    "    yValPreds = SGDReg.predict(xValPoly)\n",
    "    yTrainPreds = SGDReg.predict(xTrainPoly)\n",
    "    yValError = mean_squared_error(yVal, yValPreds)\n",
    "    yTrainError = mean_squared_error(yTrain, yTrainPreds)\n",
    "\n",
    "    if(yValError <= np.infty):\n",
    "        bestEpoch = epoch\n",
    "        bestModel = clone(SGDReg)"
   ]
  }
 ],
 "metadata": {
  "kernelspec": {
   "display_name": "Python 3.9.7 ('base')",
   "language": "python",
   "name": "python3"
  },
  "language_info": {
   "codemirror_mode": {
    "name": "ipython",
    "version": 3
   },
   "file_extension": ".py",
   "mimetype": "text/x-python",
   "name": "python",
   "nbconvert_exporter": "python",
   "pygments_lexer": "ipython3",
   "version": "3.9.7"
  },
  "orig_nbformat": 4,
  "vscode": {
   "interpreter": {
    "hash": "ad2bdc8ecc057115af97d19610ffacc2b4e99fae6737bb82f5d7fb13d2f2c186"
   }
  }
 },
 "nbformat": 4,
 "nbformat_minor": 2
}
