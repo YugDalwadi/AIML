{
 "cells": [
  {
   "cell_type": "code",
   "execution_count": 174,
   "metadata": {},
   "outputs": [],
   "source": [
    "import numpy as np\n",
    "import pandas as pd\n",
    "import matplotlib.pyplot as plt\n",
    "import scipy\n",
    "%matplotlib inline"
   ]
  },
  {
   "cell_type": "code",
   "execution_count": 175,
   "metadata": {},
   "outputs": [],
   "source": [
    "from sklearn.datasets import make_moons\n",
    "from sklearn.model_selection import train_test_split\n",
    "\n",
    "A = make_moons(1000, noise=0.3)\n",
    "X,y = A[0], A[1]\n",
    "xTrain,xTest = train_test_split(X, test_size=0.2)\n",
    "yTrain,yTest = train_test_split(y, test_size=0.2)"
   ]
  },
  {
   "cell_type": "code",
   "execution_count": 176,
   "metadata": {},
   "outputs": [
    {
     "name": "stdout",
     "output_type": "stream",
     "text": [
      "LogisticRegression 0.51\n",
      "RandomForestClassifier 0.535\n",
      "SVC 0.565\n",
      "VotingClassifier 0.55\n"
     ]
    }
   ],
   "source": [
    "from sklearn.ensemble import VotingClassifier, RandomForestClassifier\n",
    "from sklearn.svm import SVC\n",
    "from sklearn.linear_model import LogisticRegression\n",
    "from sklearn.metrics import accuracy_score\n",
    "\n",
    "logReg = LogisticRegression(solver=\"liblinear\", random_state=42)\n",
    "forestClf = RandomForestClassifier(n_estimators=10, random_state=42)\n",
    "svcClf = SVC(gamma=\"auto\", random_state=42)\n",
    "votingClf = VotingClassifier(estimators=[(\"lr\", logReg),(\"fc\", forestClf),(\"sc\", svcClf)], voting=\"hard\")\n",
    "\n",
    "for clf in logReg, forestClf, svcClf, votingClf:\n",
    "    clf.fit(xTrain,yTrain)\n",
    "    yPred = clf.predict(xTest)\n",
    "    print(clf.__class__.__name__, accuracy_score(yTest, yPred))"
   ]
  },
  {
   "cell_type": "code",
   "execution_count": 177,
   "metadata": {},
   "outputs": [
    {
     "data": {
      "image/png": "[encoded data removed]",
      "text/plain": [
       "<Figure size 432x288 with 1 Axes>"
      ]
     },
     "metadata": {
      "needs_background": "light"
     },
     "output_type": "display_data"
    }
   ],
   "source": [
    "from sklearn.model_selection import train_test_split\n",
    "m = 200\n",
    "np.random.seed(42)\n",
    "X = 6 * np.random.rand(m, 1) - 3\n",
    "y = 1 * X**2 + X + 2 + np.random.randn(m,1)\n",
    "y = y.ravel()\n",
    "plt.scatter(X, y)\n",
    "\n",
    "xTrain,xTest,yTrain,yTest = train_test_split(X,y,test_size=0.4)"
   ]
  },
  {
   "cell_type": "code",
   "execution_count": 178,
   "metadata": {},
   "outputs": [
    {
     "name": "stdout",
     "output_type": "stream",
     "text": [
      "33\n",
      "1.0315986228311942\n"
     ]
    }
   ],
   "source": [
    "# Gradient Boosting with Early Stopping\n",
    "from sklearn.ensemble import GradientBoostingRegressor\n",
    "from sklearn.metrics import mean_squared_error\n",
    "\n",
    "GBReg = GradientBoostingRegressor(learning_rate=0.1, warm_start=True, n_estimators=150, random_state=42)\n",
    "minError = np.inf\n",
    "GBReg.fit(xTrain,yTrain)\n",
    "errors = []\n",
    "for yPred in GBReg.staged_predict(xTest):\n",
    "    errors = errors + [mean_squared_error(yTest,yPred)]\n",
    "bestEstimator = np.argmin(errors) + 1\n",
    "print(bestEstimator)\n",
    "\n",
    "bestModel = GradientBoostingRegressor(learning_rate=0.1, n_estimators=33, random_state=42)\n",
    "bestModel.fit(xTrain,yTrain)\n",
    "yPred = bestModel.predict(xTest)\n",
    "print(np.sqrt(mean_squared_error(yTest,yPred)))"
   ]
  }
 ],
 "metadata": {
  "kernelspec": {
   "display_name": "Python 3.9.7 ('base')",
   "language": "python",
   "name": "python3"
  },
  "language_info": {
   "codemirror_mode": {
    "name": "ipython",
    "version": 3
   },
   "file_extension": ".py",
   "mimetype": "text/x-python",
   "name": "python",
   "nbconvert_exporter": "python",
   "pygments_lexer": "ipython3",
   "version": "3.9.7"
  },
  "orig_nbformat": 4,
  "vscode": {
   "interpreter": {
    "hash": "ad2bdc8ecc057115af97d19610ffacc2b4e99fae6737bb82f5d7fb13d2f2c186"
   }
  }
 },
 "nbformat": 4,
 "nbformat_minor": 2
}
