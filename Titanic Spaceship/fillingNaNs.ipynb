{
 "cells": [
  {
   "cell_type": "code",
   "execution_count": 28,
   "metadata": {},
   "outputs": [],
   "source": [
    "import numpy as np\n",
    "import pandas as pd\n",
    "import matplotlib.pyplot as plt\n",
    "import scipy\n",
    "%matplotlib inline"
   ]
  },
  {
   "cell_type": "code",
   "execution_count": 29,
   "metadata": {},
   "outputs": [],
   "source": [
    "from sklearn.model_selection import train_test_split\n",
    "\n",
    "fullTrainSet = pd.read_csv(r\"C:\\Users\\yug\\Desktop\\Projects\\AIML\\Titanic Spaceship\\train.csv\")\n",
    "\n",
    "for i in range(len(fullTrainSet)):\n",
    "    if(fullTrainSet.iloc[i, 1] == \"Mars\"):\n",
    "        fullTrainSet.iloc[i,13] == True\n",
    "\n",
    "fullTrainSet[\"Cabin\"] = fullTrainSet[\"Cabin\"].str.split(\"/\", expand=True)[0]\n",
    "for i in range(len(fullTrainSet[\"Cabin\"])):\n",
    "\n",
    "    if(fullTrainSet.iloc[i,3] in [\"A\", \"B\", \"C\", \"T\"]):\n",
    "        fullTrainSet.iloc[i,1] = \"Europa\"\n",
    "    elif(fullTrainSet.iloc[i,3] in [\"E\", \"G\"]):\n",
    "        fullTrainSet.iloc[i,1] = \"Earth\"\n",
    "    else:\n",
    "        fullTrainSet.iloc[i,1] = \"Mars\"\n",
    "\n",
    "fullTrainSet[\"VIP\"] = fullTrainSet[\"VIP\"].fillna(value=\"False\")\n",
    "\n",
    "fullTrainSet.iloc[:, 2] = fullTrainSet.iloc[:, 2].fillna(method= \"backfill\")\n",
    "fullTrainSet.iloc[:, 4] = fullTrainSet.iloc[:, 4].fillna(\"TRAPPIST-1e\")\n",
    "fullTrainSet.iloc[:, 5] = fullTrainSet.iloc[:, 5].fillna(fullTrainSet[\"Age\"].median())\n",
    "fullTrainSet.iloc[:, 7] = fullTrainSet.iloc[:, 7].fillna(method= \"backfill\")\n",
    "fullTrainSet.iloc[:, 8] = fullTrainSet.iloc[:, 8].fillna(method= \"backfill\")\n",
    "fullTrainSet.iloc[:, 9] = fullTrainSet.iloc[:, 9].fillna(method= \"backfill\")\n",
    "fullTrainSet.iloc[:, 10] = fullTrainSet.iloc[:, 10].fillna(method= \"backfill\")\n",
    "fullTrainSet.iloc[:, 11] = fullTrainSet.iloc[:, 11].fillna(method= \"backfill\")\n",
    "\n",
    "fullTrainSet[\"TotalExpenditure\"] = fullTrainSet.iloc[:, 7] + fullTrainSet.iloc[:,8] + fullTrainSet.iloc[:,9] + fullTrainSet.iloc[:,10] + fullTrainSet.iloc[:,11]\n",
    "fullTrainSet= fullTrainSet.drop([\"RoomService\", \"FoodCourt\", \"ShoppingMall\", \"Spa\", \"VRDeck\"], axis=1)\n",
    "\n",
    "cols = fullTrainSet.columns.tolist()\n",
    "order = [0,1,2,3,4,5,6,9,7,8]\n",
    "fullTrainSet = fullTrainSet[[cols[i] for i in order]]\n",
    "\n",
    "fullTrainSet.to_csv(r\"C:\\Users\\yug\\Desktop\\Projects\\AIML\\Titanic Spaceship\\cleanedUpTrain.csv\", index=False)"
   ]
  },
  {
   "cell_type": "code",
   "execution_count": 30,
   "metadata": {},
   "outputs": [],
   "source": [
    "fullTestSet = pd.read_csv(r\"C:\\Users\\yug\\Desktop\\Projects\\AIML\\Titanic Spaceship\\test.csv\")\n",
    "\n",
    "fullTestSet[\"Cabin\"] = fullTestSet[\"Cabin\"].str.split(\"/\", expand=True)[0]\n",
    "for i in range(len(fullTestSet[\"Cabin\"])):\n",
    "\n",
    "    if(fullTestSet.iloc[i,3] in [\"A\", \"B\", \"C\", \"T\"]):\n",
    "        fullTestSet.iloc[i,1] = \"Europa\"\n",
    "    elif(fullTestSet.iloc[i,3] in [\"E\", \"G\"]):\n",
    "        fullTestSet.iloc[i,1] = \"Earth\"\n",
    "    else:\n",
    "        fullTestSet.iloc[i,1] = \"Mars\"\n",
    "\n",
    "fullTestSet[\"VIP\"] = fullTestSet[\"VIP\"].fillna(value=\"False\")\n",
    "\n",
    "fullTestSet.iloc[:, 2] = fullTestSet.iloc[:, 2].fillna(method= \"backfill\")\n",
    "fullTestSet.iloc[:, 4] = fullTestSet.iloc[:, 4].fillna(\"TRAPPIST-1e\")\n",
    "fullTestSet.iloc[:, 5] = fullTestSet.iloc[:, 5].fillna(fullTestSet[\"Age\"].median())\n",
    "fullTestSet.iloc[:, 7] = fullTestSet.iloc[:, 7].fillna(method= \"backfill\")\n",
    "fullTestSet.iloc[:, 8] = fullTestSet.iloc[:, 8].fillna(method= \"backfill\")\n",
    "fullTestSet.iloc[:, 9] = fullTestSet.iloc[:, 9].fillna(method= \"backfill\")\n",
    "fullTestSet.iloc[:, 10] = fullTestSet.iloc[:, 10].fillna(method= \"backfill\")\n",
    "fullTestSet.iloc[:, 11] = fullTestSet.iloc[:, 11].fillna(method= \"backfill\")\n",
    "\n",
    "fullTestSet[\"TotalExpenditure\"] = fullTestSet.iloc[:, 7] + fullTestSet.iloc[:,8] + fullTestSet.iloc[:,9] + fullTestSet.iloc[:,10] + fullTestSet.iloc[:,11]\n",
    "fullTestSet= fullTestSet.drop([\"RoomService\", \"FoodCourt\", \"ShoppingMall\", \"Spa\", \"VRDeck\"], axis=1)\n",
    "\n",
    "cols = fullTestSet.columns.tolist()\n",
    "order = [0,1,2,3,4,5,6,8,7]\n",
    "fullTestSet = fullTestSet[[cols[i] for i in order]]\n",
    "\n",
    "fullTestSet.to_csv(r\"C:\\Users\\yug\\Desktop\\Projects\\AIML\\Titanic Spaceship\\cleanedUpTest.csv\", index=False)"
   ]
  },
  {
   "cell_type": "code",
   "execution_count": 31,
   "metadata": {},
   "outputs": [
    {
     "name": "stdout",
     "output_type": "stream",
     "text": [
      "[7, 8, 9, 10, 11]\n"
     ]
    }
   ],
   "source": [
    "lista = [i for i in range(7,12)]\n",
    "print(lista)"
   ]
  }
 ],
 "metadata": {
  "kernelspec": {
   "display_name": "Python 3.9.7 ('base')",
   "language": "python",
   "name": "python3"
  },
  "language_info": {
   "codemirror_mode": {
    "name": "ipython",
    "version": 3
   },
   "file_extension": ".py",
   "mimetype": "text/x-python",
   "name": "python",
   "nbconvert_exporter": "python",
   "pygments_lexer": "ipython3",
   "version": "3.9.7"
  },
  "orig_nbformat": 4,
  "vscode": {
   "interpreter": {
    "hash": "ad2bdc8ecc057115af97d19610ffacc2b4e99fae6737bb82f5d7fb13d2f2c186"
   }
  }
 },
 "nbformat": 4,
 "nbformat_minor": 2
}
