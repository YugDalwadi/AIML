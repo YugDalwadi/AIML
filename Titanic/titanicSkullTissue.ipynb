{
 "cells": [
  {
   "cell_type": "code",
   "execution_count": 1,
   "metadata": {},
   "outputs": [],
   "source": [
    "import numpy as np\n",
    "import matplotlib.pyplot as plt\n",
    "import pandas as pd\n",
    "import scipy"
   ]
  },
  {
   "cell_type": "code",
   "execution_count": 2,
   "metadata": {},
   "outputs": [
    {
     "name": "stdout",
     "output_type": "stream",
     "text": [
      "(891, 8)\n",
      "(418, 7)\n"
     ]
    },
    {
     "data": {
      "text/html": [
       "<div>\n",
       "<style scoped>\n",
       "    .dataframe tbody tr th:only-of-type {\n",
       "        vertical-align: middle;\n",
       "    }\n",
       "\n",
       "    .dataframe tbody tr th {\n",
       "        vertical-align: top;\n",
       "    }\n",
       "\n",
       "    .dataframe thead th {\n",
       "        text-align: right;\n",
       "    }\n",
       "</style>\n",
       "<table border=\"1\" class=\"dataframe\">\n",
       "  <thead>\n",
       "    <tr style=\"text-align: right;\">\n",
       "      <th></th>\n",
       "      <th>TClass</th>\n",
       "      <th>Sex</th>\n",
       "      <th>Age</th>\n",
       "      <th>Sibl_Sp</th>\n",
       "      <th>ParChl</th>\n",
       "      <th>Fare</th>\n",
       "      <th>Embarked</th>\n",
       "    </tr>\n",
       "  </thead>\n",
       "  <tbody>\n",
       "    <tr>\n",
       "      <th>0</th>\n",
       "      <td>3</td>\n",
       "      <td>male</td>\n",
       "      <td>34.5</td>\n",
       "      <td>0</td>\n",
       "      <td>0</td>\n",
       "      <td>7.8292</td>\n",
       "      <td>Q</td>\n",
       "    </tr>\n",
       "    <tr>\n",
       "      <th>1</th>\n",
       "      <td>3</td>\n",
       "      <td>female</td>\n",
       "      <td>47.0</td>\n",
       "      <td>1</td>\n",
       "      <td>0</td>\n",
       "      <td>7.0000</td>\n",
       "      <td>S</td>\n",
       "    </tr>\n",
       "    <tr>\n",
       "      <th>2</th>\n",
       "      <td>2</td>\n",
       "      <td>male</td>\n",
       "      <td>62.0</td>\n",
       "      <td>0</td>\n",
       "      <td>0</td>\n",
       "      <td>9.6875</td>\n",
       "      <td>Q</td>\n",
       "    </tr>\n",
       "    <tr>\n",
       "      <th>3</th>\n",
       "      <td>3</td>\n",
       "      <td>male</td>\n",
       "      <td>27.0</td>\n",
       "      <td>0</td>\n",
       "      <td>0</td>\n",
       "      <td>8.6625</td>\n",
       "      <td>S</td>\n",
       "    </tr>\n",
       "    <tr>\n",
       "      <th>4</th>\n",
       "      <td>3</td>\n",
       "      <td>female</td>\n",
       "      <td>22.0</td>\n",
       "      <td>1</td>\n",
       "      <td>1</td>\n",
       "      <td>12.2875</td>\n",
       "      <td>S</td>\n",
       "    </tr>\n",
       "  </tbody>\n",
       "</table>\n",
       "</div>"
      ],
      "text/plain": [
       "   TClass     Sex   Age  Sibl_Sp  ParChl     Fare Embarked\n",
       "0       3    male  34.5        0       0   7.8292        Q\n",
       "1       3  female  47.0        1       0   7.0000        S\n",
       "2       2    male  62.0        0       0   9.6875        Q\n",
       "3       3    male  27.0        0       0   8.6625        S\n",
       "4       3  female  22.0        1       1  12.2875        S"
      ]
     },
     "execution_count": 2,
     "metadata": {},
     "output_type": "execute_result"
    }
   ],
   "source": [
    "testSet = pd.read_csv(r\"C:\\Users\\yug\\Desktop\\Projects\\AIML\\Titanic\\test.csv\")\n",
    "trainSet = pd.read_csv(r\"C:\\Users\\yug\\Desktop\\Projects\\AIML\\Titanic\\train.csv\")\n",
    "\n",
    "trainSet = trainSet.rename(columns={\"Pclass\": \"TClass\", \"SibSp\": \"Sibl_Sp\", \"Parch\": \"ParChl\"})\n",
    "trainSet = trainSet.drop(axis=1, columns=[\"Ticket\", \"Cabin\", \"Name\", \"PassengerId\"])\n",
    "\n",
    "testSet = testSet.rename(columns={\"Pclass\": \"TClass\", \"SibSp\": \"Sibl_Sp\", \"Parch\": \"ParChl\"})\n",
    "testSet = testSet.drop(axis=1, columns=[\"Ticket\", \"Cabin\", \"Name\", \"PassengerId\"])\n",
    "\n",
    "print(trainSet.shape)\n",
    "print(testSet.shape)\n",
    "testSet.head()"
   ]
  },
  {
   "cell_type": "code",
   "execution_count": 3,
   "metadata": {},
   "outputs": [],
   "source": [
    "trainLabels = trainSet[\"Survived\"].copy()\n",
    "trainSet = trainSet.drop(axis=1, columns=[\"Survived\"])"
   ]
  },
  {
   "cell_type": "code",
   "execution_count": 4,
   "metadata": {},
   "outputs": [],
   "source": [
    "from sklearn.base import BaseEstimator, TransformerMixin\n",
    "\n",
    "class DataFrameColSelector(BaseEstimator, TransformerMixin):\n",
    "    def __init__(self, attribute_names):\n",
    "        self.attribute_names = attribute_names\n",
    "    def fit(self, X, y=None):\n",
    "        return self\n",
    "    def transform(self, X, y=None):\n",
    "        return X[self.attribute_names]"
   ]
  },
  {
   "cell_type": "code",
   "execution_count": 5,
   "metadata": {},
   "outputs": [],
   "source": [
    "from sklearn.pipeline import Pipeline, FeatureUnion\n",
    "from sklearn.preprocessing import StandardScaler, OneHotEncoder\n",
    "from sklearn.impute import SimpleImputer\n",
    "valCols = [\"TClass\", \"Age\", \"Sibl_Sp\", \"ParChl\", \"Fare\"]\n",
    "labelCols = [\"Sex\", \"Embarked\"]\n",
    "valPipeline = Pipeline([\n",
    "    (\"valColSelect\", DataFrameColSelector(valCols)),\n",
    "    (\"ageImputer\", SimpleImputer())\n",
    "])\n",
    "\n",
    "labelPipeline = Pipeline([\n",
    "    (\"labelColSelect\", DataFrameColSelector(labelCols)),\n",
    "    (\"labelEncoder\", OneHotEncoder(sparse=False)),\n",
    "])\n",
    "\n",
    "fullPipeline = FeatureUnion(transformer_list=[\n",
    "    (\"val_Pl\", valPipeline),\n",
    "    (\"cat_Pl\", labelPipeline),   \n",
    "])"
   ]
  },
  {
   "cell_type": "code",
   "execution_count": 6,
   "metadata": {},
   "outputs": [
    {
     "name": "stdout",
     "output_type": "stream",
     "text": [
      "(891, 11)\n",
      "(418, 11)\n"
     ]
    },
    {
     "data": {
      "text/plain": [
       "array([[ 3.        , 22.        ,  1.        , ...,  0.        ,\n",
       "         1.        ,  0.        ],\n",
       "       [ 1.        , 38.        ,  1.        , ...,  0.        ,\n",
       "         0.        ,  0.        ],\n",
       "       [ 3.        , 26.        ,  0.        , ...,  0.        ,\n",
       "         1.        ,  0.        ],\n",
       "       ...,\n",
       "       [ 3.        , 29.69911765,  1.        , ...,  0.        ,\n",
       "         1.        ,  0.        ],\n",
       "       [ 1.        , 26.        ,  0.        , ...,  0.        ,\n",
       "         0.        ,  0.        ],\n",
       "       [ 3.        , 32.        ,  0.        , ...,  1.        ,\n",
       "         0.        ,  0.        ]])"
      ]
     },
     "execution_count": 6,
     "metadata": {},
     "output_type": "execute_result"
    }
   ],
   "source": [
    "prepTrainSet = fullPipeline.fit_transform(X=trainSet)\n",
    "prepTestSet = fullPipeline.transform(X=testSet)\n",
    "print(prepTrainSet.shape)\n",
    "print(prepTestSet.shape)\n",
    "prepTrainSet\n",
    "# Note to self; Don't leave large IDs that will DEFINITELY skew your data."
   ]
  },
  {
   "cell_type": "code",
   "execution_count": 7,
   "metadata": {},
   "outputs": [],
   "source": [
    "from sklearn.neighbors import KNeighborsClassifier\n",
    "from sklearn.svm import SVC\n",
    "from sklearn.ensemble import RandomForestClassifier, GradientBoostingClassifier\n",
    "\n",
    "KNNClf = KNeighborsClassifier()\n",
    "KNNClf.fit(prepTrainSet, trainLabels)\n",
    "KNNClf.predict(prepTestSet)\n",
    "\n",
    "SVCClf = SVC(gamma=\"auto\")\n",
    "SVCClf.fit(prepTrainSet, trainLabels)\n",
    "SVCClf.predict(prepTestSet)\n",
    "\n",
    "RFCClf = RandomForestClassifier(n_estimators=70, max_features=\"log2\")\n",
    "RFCClf.fit(prepTrainSet, trainLabels)\n",
    "RFCClf.predict(prepTestSet)\n",
    "\n",
    "GBCClf = GradientBoostingClassifier()\n",
    "GBCClf.fit(prepTrainSet, trainLabels)\n",
    "GBCResults = GBCClf.predict(prepTestSet)"
   ]
  },
  {
   "cell_type": "code",
   "execution_count": 8,
   "metadata": {},
   "outputs": [
    {
     "name": "stdout",
     "output_type": "stream",
     "text": [
      "KNN Mean Scores: 0.7093757802746566\n",
      "SVC Mean Scores: 0.7329712858926343\n",
      "RFC Mean Scores: 0.8148813982521848\n",
      "GBC Mean Scores: 0.8316729088639201\n"
     ]
    }
   ],
   "source": [
    "from sklearn.model_selection import cross_val_score\n",
    "\n",
    "scoresKNN = cross_val_score(KNNClf, prepTrainSet, trainLabels, cv=10)\n",
    "scoresSVC = cross_val_score(SVCClf, prepTrainSet, trainLabels, cv=10)\n",
    "scoresRFC = cross_val_score(RFCClf, prepTrainSet, trainLabels, cv=10)\n",
    "scoresGBC = cross_val_score(GBCClf, prepTrainSet, trainLabels, cv=10)\n",
    "print(\"KNN Mean Scores:\", scoresKNN.mean())\n",
    "print(\"SVC Mean Scores:\", scoresSVC.mean())\n",
    "print(\"RFC Mean Scores:\", scoresRFC.mean())\n",
    "print(\"GBC Mean Scores:\", scoresGBC.mean())"
   ]
  },
  {
   "cell_type": "code",
   "execution_count": 9,
   "metadata": {},
   "outputs": [
    {
     "data": {
      "text/plain": [
       "{'ccp_alpha': 0.0,\n",
       " 'criterion': 'friedman_mse',\n",
       " 'init': None,\n",
       " 'learning_rate': 0.1,\n",
       " 'loss': 'deviance',\n",
       " 'max_depth': 3,\n",
       " 'max_features': None,\n",
       " 'max_leaf_nodes': None,\n",
       " 'min_impurity_decrease': 0.0,\n",
       " 'min_impurity_split': None,\n",
       " 'min_samples_leaf': 1,\n",
       " 'min_samples_split': 2,\n",
       " 'min_weight_fraction_leaf': 0.0,\n",
       " 'n_estimators': 100,\n",
       " 'n_iter_no_change': None,\n",
       " 'random_state': None,\n",
       " 'subsample': 1.0,\n",
       " 'tol': 0.0001,\n",
       " 'validation_fraction': 0.1,\n",
       " 'verbose': 0,\n",
       " 'warm_start': False}"
      ]
     },
     "execution_count": 9,
     "metadata": {},
     "output_type": "execute_result"
    }
   ],
   "source": [
    "GBCClf.get_params()"
   ]
  },
  {
   "cell_type": "code",
   "execution_count": 10,
   "metadata": {},
   "outputs": [],
   "source": [
    "from sklearn.model_selection import GridSearchCV\n",
    "RFCClf = GradientBoostingClassifier()\n",
    "RFCGrid = GridSearchCV(estimator=RFCClf, param_grid=[\n",
    "    {\"n_estimators\": [70, 75, 80, 100, 120]},\n",
    "    {\"max_features\" :[\"sqrt\", \"log2\", None]}\n",
    "])\n",
    "\n",
    "gridSearchResults = RFCGrid.fit(prepTrainSet, trainLabels)\n"
   ]
  },
  {
   "cell_type": "code",
   "execution_count": 11,
   "metadata": {},
   "outputs": [
    {
     "data": {
      "text/plain": [
       "{'n_estimators': 100}"
      ]
     },
     "execution_count": 11,
     "metadata": {},
     "output_type": "execute_result"
    }
   ],
   "source": [
    "gridSearchResults.best_params_"
   ]
  },
  {
   "cell_type": "code",
   "execution_count": 18,
   "metadata": {},
   "outputs": [],
   "source": [
    "GBCClf = GradientBoostingClassifier()\n",
    "GBCClf.fit(prepTrainSet, trainLabels)\n",
    "GBCResults = GBCClf.predict(prepTestSet)\n",
    "\n",
    "finalData = pd.DataFrame()\n",
    "\n",
    "testSet = pd.read_csv(r\"C:\\Users\\yug\\Desktop\\Projects\\AIML\\Titanic\\test.csv\")\n",
    "PassIDs = testSet[\"PassengerId\"].copy()\n",
    "\n",
    "finalData[\"PassengerId\"] = PassIDs\n",
    "finalData[\"Survived\"] = pd.DataFrame(GBCResults)\n",
    "\n",
    "finalData.to_csv(r\"C:\\Users\\yug\\Desktop\\Projects\\AIML\\Titanic\\finalData.csv\", index=False)"
   ]
  },
  {
   "cell_type": "code",
   "execution_count": null,
   "metadata": {},
   "outputs": [],
   "source": []
  }
 ],
 "metadata": {
  "kernelspec": {
   "display_name": "Python 3.9.7 ('base')",
   "language": "python",
   "name": "python3"
  },
  "language_info": {
   "codemirror_mode": {
    "name": "ipython",
    "version": 3
   },
   "file_extension": ".py",
   "mimetype": "text/x-python",
   "name": "python",
   "nbconvert_exporter": "python",
   "pygments_lexer": "ipython3",
   "version": "3.9.7"
  },
  "orig_nbformat": 4,
  "vscode": {
   "interpreter": {
    "hash": "ad2bdc8ecc057115af97d19610ffacc2b4e99fae6737bb82f5d7fb13d2f2c186"
   }
  }
 },
 "nbformat": 4,
 "nbformat_minor": 2
}
