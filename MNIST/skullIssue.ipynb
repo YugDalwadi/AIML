{
 "cells": [
  {
   "cell_type": "code",
   "execution_count": 3,
   "metadata": {},
   "outputs": [],
   "source": [
    "import pandas as pd\n",
    "import numpy as np\n",
    "import matplotlib as mlt\n",
    "import scipy\n",
    "import sklearn\n",
    "%matplotlib inline"
   ]
  },
  {
   "cell_type": "code",
   "execution_count": 4,
   "metadata": {},
   "outputs": [],
   "source": [
    "from tensorflow import keras\n",
    "from keras.datasets import mnist\n",
    "\n",
    "(xTrain, yTrain), (xTest, yTest) = mnist.load_data()"
   ]
  },
  {
   "cell_type": "code",
   "execution_count": 5,
   "metadata": {},
   "outputs": [
    {
     "data": {
      "text/plain": [
       "<matplotlib.image.AxesImage at 0x1f57cebbf40>"
      ]
     },
     "execution_count": 5,
     "metadata": {},
     "output_type": "execute_result"
    },
    {
     "data": {
      "image/png": "[encoded data removed]",
      "text/plain": [
       "<Figure size 432x288 with 1 Axes>"
      ]
     },
     "metadata": {
      "needs_background": "light"
     },
     "output_type": "display_data"
    }
   ],
   "source": [
    "someNum = xTrain[727]\n",
    "\n",
    "someNumImage = someNum.reshape(28,28)\n",
    "\n",
    "mlt.pyplot.imshow(someNum, cmap=mlt.cm.binary, interpolation=\"nearest\")"
   ]
  },
  {
   "cell_type": "code",
   "execution_count": 6,
   "metadata": {},
   "outputs": [],
   "source": [
    "shuffle_index = np.random.permutation(60000)\n",
    "xTrain,yTrain = xTrain[shuffle_index], yTrain[shuffle_index]\n",
    "xTrain = xTrain.reshape(60000, 784)\n",
    "xTest = xTest.reshape(10000, 784)"
   ]
  },
  {
   "cell_type": "code",
   "execution_count": 5,
   "metadata": {},
   "outputs": [],
   "source": [
    "# We are checking the y set not X set\n",
    "yTrain9 = (yTrain == 9)\n",
    "yTest9 = (yTest == 9)"
   ]
  },
  {
   "cell_type": "code",
   "execution_count": 6,
   "metadata": {},
   "outputs": [
    {
     "data": {
      "text/plain": [
       "SGDClassifier(random_state=42)"
      ]
     },
     "execution_count": 6,
     "metadata": {},
     "output_type": "execute_result"
    }
   ],
   "source": [
    "\n",
    "from sklearn.linear_model import SGDClassifier\n",
    "\n",
    "sgdClass = SGDClassifier(random_state=42)\n",
    "sgdClass.fit(xTrain, yTrain9)"
   ]
  },
  {
   "cell_type": "code",
   "execution_count": 7,
   "metadata": {},
   "outputs": [
    {
     "data": {
      "text/plain": [
       "array([ True])"
      ]
     },
     "execution_count": 7,
     "metadata": {},
     "output_type": "execute_result"
    }
   ],
   "source": [
    "someNum.shape\n",
    "someNum = someNum.reshape(784)\n",
    "sgdClass.predict([someNum])"
   ]
  },
  {
   "cell_type": "code",
   "execution_count": null,
   "metadata": {},
   "outputs": [
    {
     "name": "stdout",
     "output_type": "stream",
     "text": [
      "0.9504\n",
      "0.94685\n",
      "0.9499\n"
     ]
    }
   ],
   "source": [
    "# Cross Validation Function from Scratch (Not Needed)\n",
    "from sklearn.model_selection import StratifiedKFold\n",
    "from sklearn.base import clone\n",
    "\n",
    "\n",
    "skfolds = StratifiedKFold(n_splits=3, random_state=42, shuffle=True)\n",
    "\n",
    "for trainIndex, testIndex in skfolds.split(xTrain, yTrain9):\n",
    "    cloneSGD = clone(sgdClass)\n",
    "    # On the RHS we use only xTrain and yTrain9 because we are preparing folds of xTrain and yTrain9, not test arrays.\n",
    "    xTrainFolds = xTrain[trainIndex]\n",
    "    yTrain9Folds = yTrain9[trainIndex]\n",
    "    xTestFolds = xTrain[testIndex]\n",
    "    yTest9Folds = yTrain9[testIndex]\n",
    "\n",
    "    cloneSGD.fit(xTrainFolds, yTrain9Folds)\n",
    "    myPreds = cloneSGD.predict(xTestFolds)\n",
    "    correctPreds = sum(myPreds == yTest9Folds)\n",
    "    print(correctPreds/len(myPreds))\n"
   ]
  },
  {
   "cell_type": "code",
   "execution_count": 8,
   "metadata": {},
   "outputs": [],
   "source": [
    "from sklearn.model_selection import cross_val_score\n",
    "from sklearn.base import BaseEstimator\n",
    "\n",
    "class not5Classifier(BaseEstimator):\n",
    "    def fit(self, X, y=None):\n",
    "        pass\n",
    "\n",
    "    def predict(self,X, y=None):\n",
    "        # First is Cols, second is Rows\n",
    "        return np.zeros((len(X),1), dtype=bool)\n",
    "    \n",
    "never5Clf = not5Classifier()\n",
    "scores = cross_val_score(never5Clf, cv=3, X=xTrain, y=yTrain9, scoring=\"accuracy\")"
   ]
  },
  {
   "cell_type": "code",
   "execution_count": 9,
   "metadata": {},
   "outputs": [],
   "source": [
    "from sklearn.model_selection import  cross_val_predict\n",
    "from sklearn.metrics import confusion_matrix, f1_score\n",
    "\n",
    "# Each row in a confusion matrix is yTrue and reach column is a yPred.\n",
    "#Let the matrix be- \n",
    "# 1 2\n",
    "# 3 4\n",
    "# 1(TN) is Predicted non-5 and actually non 5 images \n",
    "# 2(FP) is Predicted 5 but actually non 5 images\n",
    "# 3(FN) is Predicted non-5 but actually 5 images \n",
    "# 4(TP) is Predicted 5 and actually 5 images\n",
    "# 1,4 are correct guesses while 2,3 are incorrect guesses\n",
    "\n",
    "##mycvPreds = cross_val_predict(sgdClass, X=xTrain, y=yTrain9, cv=3)\n",
    "##mycMatrix = confusion_matrix(yTrain9, mycvPreds)\n",
    "##print(mycMatrix)\n",
    "##f1Score = f1_score(yTrain9,mycvPreds)\n",
    "##print(f1Score)\n",
    "\n",
    "\n"
   ]
  },
  {
   "cell_type": "code",
   "execution_count": 11,
   "metadata": {},
   "outputs": [
    {
     "data": {
      "image/png": "[encoded data removed]",
      "text/plain": [
       "<Figure size 432x288 with 1 Axes>"
      ]
     },
     "metadata": {
      "needs_background": "light"
     },
     "output_type": "display_data"
    },
    {
     "name": "stdout",
     "output_type": "stream",
     "text": [
      "[0.10374052 0.10372489 0.1037267  ... 1.         1.         1.        ]\n"
     ]
    }
   ],
   "source": [
    "from sklearn.model_selection import  cross_val_predict\n",
    "from sklearn.metrics import precision_recall_curve\n",
    "\n",
    "scores = cross_val_predict(sgdClass, xTrain, yTrain9, cv=3, method=\"decision_function\")\n",
    "precision, recall, threshold = precision_recall_curve(yTrain9, scores) # Scores is the output of a decision function. So it is used.\n",
    "\n",
    "def plotPrec_RecallvsThresholdCurve(precision, recall, threshold):\n",
    "    mlt.pyplot.plot(threshold, precision[:-1], \"b--\", label=\"Precision\")\n",
    "    mlt.pyplot.plot(threshold, recall[:-1], \"g-\", label=\"Recall\")\n",
    "    mlt.pyplot.xlabel(\"Threshold\")\n",
    "    mlt.pyplot.ylim([0,1])\n",
    "\n",
    "myCurve = plotPrec_RecallvsThresholdCurve(precision, recall, threshold)\n",
    "mlt.pyplot.show()\n",
    "print(precision)"
   ]
  },
  {
   "cell_type": "code",
   "execution_count": 12,
   "metadata": {},
   "outputs": [
    {
     "name": "stdout",
     "output_type": "stream",
     "text": [
      "0.8357955921530636\n",
      "0.5800974953773743\n"
     ]
    }
   ],
   "source": [
    "\n",
    "from sklearn.metrics import precision_score, recall_score\n",
    "yTrainPredict = (scores > 2600)\n",
    "print(precision_score(yTrain9, yTrainPredict))\n",
    "print(recall_score(yTrain9, yTrainPredict))\n"
   ]
  },
  {
   "cell_type": "code",
   "execution_count": 13,
   "metadata": {},
   "outputs": [
    {
     "data": {
      "image/png": "[encoded data removed]",
      "text/plain": [
       "<Figure size 432x288 with 1 Axes>"
      ]
     },
     "metadata": {
      "needs_background": "light"
     },
     "output_type": "display_data"
    }
   ],
   "source": [
    "from sklearn.metrics import roc_curve\n",
    "\n",
    "fpr, tpr, threshold = roc_curve(yTrain9,scores)\n",
    "\n",
    "def plot_roc_curve(fpr, tpr, threshold):\n",
    "\n",
    "    mlt.pyplot.plot(fpr,tpr, linewidth=2)\n",
    "    mlt.pyplot.plot([0,1], [0,1], \"k--\")\n",
    "    mlt.pyplot.axis([0,1,0,1])\n",
    "    mlt.pyplot.xlabel(\"FPR\")\n",
    "    mlt.pyplot.ylabel(\"TPR\")\n",
    "\n",
    "plot_roc_curve(fpr, tpr, threshold)\n",
    "\n"
   ]
  },
  {
   "cell_type": "markdown",
   "metadata": {},
   "source": [
    "FOR DECIDING BETWEEN ROC CURVE OR PRECISION-RECALL-THRESHOLD CURVE(PR Curve):-\n",
    "A good rule of thumb is to prefer PR Curve when the TP class is rare or you care more about FP than FN."
   ]
  },
  {
   "cell_type": "code",
   "execution_count": 14,
   "metadata": {},
   "outputs": [],
   "source": [
    "from sklearn.ensemble import RandomForestClassifier\n",
    "from matplotlib import pyplot as plt\n",
    "myRFC = RandomForestClassifier(random_state=42)\n",
    "\n",
    "# This gives us an array of probabilies of each entry being the given number.\n",
    "myRFCProbas = cross_val_predict(myRFC, xTrain, yTrain9, cv=3, method= \"predict_proba\")\n",
    "yScoresRFC = myRFCProbas[:, 1]\n",
    "fpr_RFC, tpr_RFC, threshold_RFC = roc_curve(yTrain9, yScoresRFC)"
   ]
  },
  {
   "cell_type": "code",
   "execution_count": 15,
   "metadata": {},
   "outputs": [
    {
     "data": {
      "image/png": "[encoded data removed]",
      "text/plain": [
       "<Figure size 432x288 with 1 Axes>"
      ]
     },
     "metadata": {
      "needs_background": "light"
     },
     "output_type": "display_data"
    }
   ],
   "source": [
    "plt.plot(fpr,tpr, \"b:\", label=\"SGD\")\n",
    "plt.plot(fpr_RFC, tpr_RFC, label=\"RFC\")\n",
    "plt.legend(loc=\"center right\")\n",
    "plt.show()"
   ]
  },
  {
   "cell_type": "code",
   "execution_count": 16,
   "metadata": {},
   "outputs": [
    {
     "data": {
      "text/plain": [
       "SGDClassifier()"
      ]
     },
     "execution_count": 16,
     "metadata": {},
     "output_type": "execute_result"
    }
   ],
   "source": [
    "multiClassSGD = SGDClassifier()\n",
    "multiClassSGD.fit(xTrain, yTrain)"
   ]
  },
  {
   "cell_type": "code",
   "execution_count": 17,
   "metadata": {},
   "outputs": [
    {
     "name": "stdout",
     "output_type": "stream",
     "text": [
      "[[-17045.17296668 -25950.14144743 -16304.66584929 -10830.46976796\n",
      "  -29683.03626669    -70.5602107   -5687.66539255 -39191.66801196\n",
      "    2453.03141691 -13579.802522  ]]\n"
     ]
    }
   ],
   "source": [
    "someNum = xTrain[784]\n",
    "someNum = someNum.reshape(784)\n",
    "someNumScores = multiClassSGD.decision_function([someNum])\n",
    "print(someNumScores)"
   ]
  },
  {
   "cell_type": "code",
   "execution_count": 1,
   "metadata": {},
   "outputs": [
    {
     "ename": "NameError",
     "evalue": "name 'xTrain' is not defined",
     "output_type": "error",
     "traceback": [
      "\u001b[1;31m---------------------------------------------------------------------------\u001b[0m",
      "\u001b[1;31mNameError\u001b[0m                                 Traceback (most recent call last)",
      "\u001b[1;32m~\\AppData\\Local\\Temp/ipykernel_36800/2379701151.py\u001b[0m in \u001b[0;36m<module>\u001b[1;34m\u001b[0m\n\u001b[0;32m      2\u001b[0m \u001b[1;33m\u001b[0m\u001b[0m\n\u001b[0;32m      3\u001b[0m \u001b[0mstdScaler\u001b[0m \u001b[1;33m=\u001b[0m \u001b[0mStandardScaler\u001b[0m\u001b[1;33m(\u001b[0m\u001b[1;33m)\u001b[0m\u001b[1;33m\u001b[0m\u001b[1;33m\u001b[0m\u001b[0m\n\u001b[1;32m----> 4\u001b[1;33m \u001b[0mstandardized_xTrain\u001b[0m \u001b[1;33m=\u001b[0m \u001b[0mstdScaler\u001b[0m\u001b[1;33m.\u001b[0m\u001b[0mfit_transform\u001b[0m\u001b[1;33m(\u001b[0m\u001b[0mxTrain\u001b[0m\u001b[1;33m)\u001b[0m\u001b[1;33m\u001b[0m\u001b[1;33m\u001b[0m\u001b[0m\n\u001b[0m\u001b[0;32m      5\u001b[0m \u001b[1;33m\u001b[0m\u001b[0m\n\u001b[0;32m      6\u001b[0m \u001b[0mmyRFC\u001b[0m \u001b[1;33m=\u001b[0m \u001b[0mRandomForestClassifier\u001b[0m\u001b[1;33m(\u001b[0m\u001b[1;33m)\u001b[0m\u001b[1;33m\u001b[0m\u001b[1;33m\u001b[0m\u001b[0m\n",
      "\u001b[1;31mNameError\u001b[0m: name 'xTrain' is not defined"
     ]
    }
   ],
   "source": [
    "from sklearn.preprocessing import StandardScaler\n",
    "\n",
    "stdScaler = StandardScaler()\n",
    "standardized_xTrain = stdScaler.fit_transform(xTrain)\n",
    "\n",
    "myRFC = RandomForestClassifier()\n",
    "cvs = cross_val_score(myRFC, standardized_xTrain, yTrain, cv=3, scoring=\"accuracy\")\n",
    "print(cvs)"
   ]
  },
  {
   "cell_type": "code",
   "execution_count": 19,
   "metadata": {},
   "outputs": [],
   "source": [
    "yPreds = cross_val_predict(myRFC, standardized_xTrain, yTrain, cv=3)\n",
    "cfMat = confusion_matrix(yTrain, yPreds)\n"
   ]
  },
  {
   "cell_type": "code",
   "execution_count": 20,
   "metadata": {},
   "outputs": [
    {
     "data": {
      "text/plain": [
       "<matplotlib.image.AxesImage at 0x2cb9a9b9700>"
      ]
     },
     "execution_count": 20,
     "metadata": {},
     "output_type": "execute_result"
    },
    {
     "data": {
      "image/png": "[encoded data removed]",
      "text/plain": [
       "<Figure size 288x288 with 1 Axes>"
      ]
     },
     "metadata": {
      "needs_background": "light"
     },
     "output_type": "display_data"
    }
   ],
   "source": [
    "plt.matshow(cfMat, cmap=plt.cm.gray_r)\n"
   ]
  },
  {
   "cell_type": "code",
   "execution_count": 23,
   "metadata": {},
   "outputs": [],
   "source": [
    "yTrainOver7 = (yTrain >= 7)\n",
    "yTrainOdd = (yTrain %2 != 0)\n",
    "# Remember, np.c_ concatenates like- \n",
    "# A= [1,2,3], B= [4,5,6]\n",
    "# np.c_ of A and B = [1,4,2,5,3,6]\n",
    "yMultilabel = np.c_[yTrainOver7, yTrainOdd]"
   ]
  },
  {
   "cell_type": "code",
   "execution_count": 30,
   "metadata": {},
   "outputs": [
    {
     "data": {
      "text/plain": [
       "array([[ True,  True]])"
      ]
     },
     "execution_count": 30,
     "metadata": {},
     "output_type": "execute_result"
    }
   ],
   "source": [
    "from sklearn.neighbors import KNeighborsClassifier\n",
    "\n",
    "myKNN = KNeighborsClassifier()\n",
    "myKNN.fit(xTrain, yMultilabel)\n",
    "someNum = xTrain[727]\n",
    "myKNN.predict([someNum])\n"
   ]
  },
  {
   "cell_type": "code",
   "execution_count": 32,
   "metadata": {},
   "outputs": [
    {
     "data": {
      "text/plain": [
       "0.9784583303426903"
      ]
     },
     "execution_count": 32,
     "metadata": {},
     "output_type": "execute_result"
    }
   ],
   "source": [
    "yMultiPreds = cross_val_predict(myKNN,xTrain, yMultilabel, cv=3)\n",
    "f1_score(yMultilabel, yMultiPreds, average=\"weighted\")"
   ]
  },
  {
   "cell_type": "code",
   "execution_count": null,
   "metadata": {},
   "outputs": [],
   "source": []
  }
 ],
 "metadata": {
  "interpreter": {
   "hash": "ad2bdc8ecc057115af97d19610ffacc2b4e99fae6737bb82f5d7fb13d2f2c186"
  },
  "kernelspec": {
   "display_name": "Python 3.9.7 ('base')",
   "language": "python",
   "name": "python3"
  },
  "language_info": {
   "codemirror_mode": {
    "name": "ipython",
    "version": 3
   },
   "file_extension": ".py",
   "mimetype": "text/x-python",
   "name": "python",
   "nbconvert_exporter": "python",
   "pygments_lexer": "ipython3",
   "version": "3.9.7"
  },
  "orig_nbformat": 4
 },
 "nbformat": 4,
 "nbformat_minor": 2
}
